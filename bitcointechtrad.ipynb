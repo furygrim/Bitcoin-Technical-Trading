{
  "nbformat": 4,
  "nbformat_minor": 0,
  "metadata": {
    "colab": {
      "provenance": [],
      "authorship_tag": "ABX9TyOZLp3zhOfantScXVGismFd"
    },
    "kernelspec": {
      "name": "python3",
      "display_name": "Python 3"
    },
    "language_info": {
      "name": "python"
    }
  },
  "cells": [
    {
      "cell_type": "code",
      "execution_count": null,
      "metadata": {
        "id": "NNK3fTr1mVSD"
      },
      "outputs": [],
      "source": [
        "# Import necessary libraries\n",
        "import numpy as np\n",
        "import pandas as pd\n",
        "import matplotlib.pyplot as plt\n",
        "import seaborn as sns\n",
        "from sklearn.preprocessing import MinMaxScaler\n",
        "from tensorflow.keras.models import Sequential\n",
        "from tensorflow.keras.layers import LSTM, Dense, Dropout\n",
        "from tensorflow.keras.callbacks import EarlyStopping\n",
        "from sklearn.metrics import mean_squared_error, mean_absolute_error\n",
        "\n",
        "# Load the dataset\n",
        "url = 'https://example.com/bitcoin-historical-data.csv'  # Replace with a link to a dataset or your local path\n",
        "df = pd.read_csv(url)\n",
        "df.head()\n"
      ]
    },
    {
      "cell_type": "code",
      "source": [
        "# Display dataset information and check for missing values\n",
        "print(df.info())\n",
        "print(df.isnull().sum())\n",
        "\n",
        "# Convert date column to datetime format if necessary\n",
        "df['Date'] = pd.to_datetime(df['Date'])\n",
        "\n",
        "# Sort by date to ensure proper time order\n",
        "df = df.sort_values('Date')\n",
        "\n",
        "# Select features for training, e.g., Close price\n",
        "data = df[['Close']].values  # Using only the 'Close' price for simplicity\n"
      ],
      "metadata": {
        "id": "pt3VI7almZWY"
      },
      "execution_count": null,
      "outputs": []
    },
    {
      "cell_type": "code",
      "source": [
        "# Use MinMaxScaler for normalization\n",
        "scaler = MinMaxScaler(feature_range=(0, 1))\n",
        "scaled_data = scaler.fit_transform(data)\n"
      ],
      "metadata": {
        "id": "6S694mgMmaCe"
      },
      "execution_count": null,
      "outputs": []
    },
    {
      "cell_type": "code",
      "source": [
        "def create_sequences(data, sequence_length=60):\n",
        "    x, y = [], []\n",
        "    for i in range(sequence_length, len(data)):\n",
        "        x.append(data[i-sequence_length:i, 0])\n",
        "        y.append(data[i, 0])\n",
        "    return np.array(x), np.array(y)\n",
        "\n",
        "# Create sequences with a 60-day lookback period\n",
        "sequence_length = 60\n",
        "x, y = create_sequences(scaled_data, sequence_length)\n",
        "\n",
        "# Reshape data to (samples, time steps, features) format required by LSTM\n",
        "x = np.reshape(x, (x.shape[0], x.shape[1], 1))\n"
      ],
      "metadata": {
        "id": "d66RTm7-mpiH"
      },
      "execution_count": null,
      "outputs": []
    },
    {
      "cell_type": "code",
      "source": [
        "# Split into training (80%) and testing (20%) sets\n",
        "split = int(0.8 * len(x))\n",
        "x_train, x_test = x[:split], x[split:]\n",
        "y_train, y_test = y[:split], y[split:]\n"
      ],
      "metadata": {
        "id": "ouQc4ROamvBr"
      },
      "execution_count": null,
      "outputs": []
    },
    {
      "cell_type": "code",
      "source": [
        "# Define the LSTM model\n",
        "model = Sequential()\n",
        "model.add(LSTM(units=50, return_sequences=True, input_shape=(x_train.shape[1], 1)))\n",
        "model.add(Dropout(0.2))\n",
        "model.add(LSTM(units=50, return_sequences=False))\n",
        "model.add(Dropout(0.2))\n",
        "model.add(Dense(units=25))\n",
        "model.add(Dense(units=1))\n",
        "\n",
        "# Compile the model\n",
        "model.compile(optimizer='adam', loss='mean_squared_error')\n",
        "\n",
        "# Display the model summary\n",
        "model.summary()\n"
      ],
      "metadata": {
        "id": "Izkh0VXemy7c"
      },
      "execution_count": null,
      "outputs": []
    },
    {
      "cell_type": "code",
      "source": [
        "# Add early stopping to prevent overfitting\n",
        "early_stop = EarlyStopping(monitor='val_loss', patience=5, restore_best_weights=True)\n",
        "\n",
        "# Train the model\n",
        "history = model.fit(x_train, y_train, validation_data=(x_test, y_test), epochs=50, batch_size=32, callbacks=[early_stop])\n"
      ],
      "metadata": {
        "id": "pScBzyOsm3UT"
      },
      "execution_count": null,
      "outputs": []
    },
    {
      "cell_type": "code",
      "source": [
        "# Predict using the test set\n",
        "predictions = model.predict(x_test)\n",
        "\n",
        "# Inverse transform the predictions to original scale\n",
        "predictions = scaler.inverse_transform(predictions)\n",
        "y_test_scaled = scaler.inverse_transform([y_test])\n",
        "\n",
        "# Calculate error metrics\n",
        "mse = mean_squared_error(y_test_scaled[0], predictions[:, 0])\n",
        "mae = mean_absolute_error(y_test_scaled[0], predictions[:, 0])\n",
        "print(f'Mean Squared Error: {mse}')\n",
        "print(f'Mean Absolute Error: {mae}')\n"
      ],
      "metadata": {
        "id": "ddw7wq_qm4h7"
      },
      "execution_count": null,
      "outputs": []
    },
    {
      "cell_type": "code",
      "source": [
        "# Prepare a dataframe for plotting\n",
        "train = df[:split + sequence_length]\n",
        "test = df[split + sequence_length:]\n",
        "test['Predictions'] = predictions\n",
        "\n",
        "# Plot the actual and predicted prices\n",
        "plt.figure(figsize=(16, 8))\n",
        "plt.plot(train['Date'], train['Close'], label='Train Data')\n",
        "plt.plot(test['Date'], test['Close'], label='Actual Price')\n",
        "plt.plot(test['Date'], test['Predictions'], label='Predicted Price')\n",
        "plt.title('Bitcoin Price Prediction')\n",
        "plt.xlabel('Date')\n",
        "plt.ylabel('Price')\n",
        "plt.legend()\n",
        "plt.show()\n"
      ],
      "metadata": {
        "id": "-joy-uUpnAJE"
      },
      "execution_count": null,
      "outputs": []
    },
    {
      "cell_type": "code",
      "source": [
        "# Save the model for future use\n",
        "model.save('bitcoin_lstm_model.h5')\n"
      ],
      "metadata": {
        "id": "_HaBpx75nDHc"
      },
      "execution_count": null,
      "outputs": []
    }
  ]
}